{
 "cells": [
  {
   "cell_type": "markdown",
   "metadata": {},
   "source": [
    "# [AMPLab] report: essentia task 2 (genre classification)\n",
    "Notebook created by Philip Tovstogan"
   ]
  },
  {
   "cell_type": "markdown",
   "metadata": {},
   "source": [
    "## Download data\n",
    "First we need to download audio data. We use python libraries to retrieve the zip file and extract it to `data` directory in our root. Because the file is reasonably large, we skip this step if the `data` directory already exists"
   ]
  },
  {
   "cell_type": "code",
   "execution_count": 11,
   "metadata": {},
   "outputs": [],
   "source": [
    "import shutil\n",
    "import os\n",
    "\n",
    "from urllib.request import urlretrieve\n",
    "from zipfile import ZipFile\n",
    "\n",
    "# Download data\n",
    "dataset_url = 'http://essentia.upf.edu/documentation/tmp/Essentia_genre_task.zip'\n",
    "directory = 'data'\n",
    "filename = 'data.zip'\n",
    "root_dir = os.path.join(directory, 'genre')\n",
    "\n",
    "if not os.path.exists(directory):  # we porbably already run this cell\n",
    "    try:\n",
    "        os.remove(filename) # remove old zip file if exists\n",
    "    except FileNotFoundError:\n",
    "        pass\n",
    "    urlretrieve(dataset_url, filename)  # download\n",
    "    \n",
    "    zip_file = ZipFile(filename, 'r')\n",
    "    zip_file.extractall(directory)  # extract\n",
    "    zip_file.close()\n",
    "    \n",
    "    os.remove(filename)"
   ]
  },
  {
   "cell_type": "markdown",
   "metadata": {},
   "source": [
    "## Extract audio features\n",
    "First we initialize MusicExtractor algorithm, because it will be reused for each file. The only statistics we are interested in is *mean* and *stdev*. Then we go through all the audio files and calculate descriptors and store them as JSON files in the `features` directory that has same structure as `data/genres` in the root. \n",
    "\n",
    "Because the process is slow, in case if something went wrong and it was interrupted, we don't overwrite the JSON files - if it exists we assume that the features have already been extracted and it is skipped (indicated by `~` instead of `.` in progress bar)."
   ]
  },
  {
   "cell_type": "code",
   "execution_count": 7,
   "metadata": {},
   "outputs": [],
   "source": [
    "# Essentia init\n",
    "import essentia.standard as es\n",
    "stats = ['mean', 'stdev']\n",
    "music_extractor = es.MusicExtractor(lowlevelStats=stats, rhythmStats=stats, tonalStats=stats)"
   ]
  },
  {
   "cell_type": "code",
   "execution_count": 75,
   "metadata": {},
   "outputs": [
    {
     "name": "stdout",
     "output_type": "stream",
     "text": [
      "Analyzing jaz: ~~~~~~~~~~~~~~~~~~~~~~~~~~~~~~~~~~~~~~~~~~~~~~~~~~~~~~~~~~\n",
      "Analyzing cla: ~~~~~~~~~~~~~~~~~~~~~~~~~~~~~~~~~~~~~~~~~~~~~~~~~~~~~~~\n",
      "Analyzing dan: ~~~~~~~~~~~~~~~~~~~~~~~~~~~~~~~~~~~~~~~~~~~~~~~~~~~~~~~\n",
      "Analyzing spe: ~~~~~~~~~~~~~~~~~~~~~~~~~~~~~~~~~~~~~~~~~~~~~~~~~~~~~~\n",
      "Analyzing hip: ~~~~~~~~~~~~~~~~~~~~~~~~~~~~~~~~~~~~~~~~~~~~~~~~~~~~~~~\n",
      "Analyzing rhy: ~~~~~~~~~~~~~~~~~~~~~~~~~~~~~~~~~~~~~~~~~~~~~~~~~~~~~~~\n",
      "Analyzing roc: ~~~~~~~~~~~~~~~~~~~~~~~~~~~~~~~~~~~~~~~~~~~~~~~~~~~~~~~\n",
      "Analyzing pop: ~~~~~~~~~~~~~~~~~~~~~~~~~~~~~~~~~~~~~~~~~~~~~~~~~~~~~~\n"
     ]
    }
   ],
   "source": [
    "# Extract audio features and write them to files\n",
    "features_dir = 'features'\n",
    "    \n",
    "for genre_dir in os.listdir(root_dir):\n",
    "    print('Analyzing {}: '.format(genre_dir), end='', flush=True)\n",
    "    genre_path = os.path.join(root_dir, genre_dir)\n",
    "    features_genre_dir = os.path.join(features_dir, genre_dir)\n",
    "    os.makedirs(features_genre_dir, exist_ok=True)\n",
    "    \n",
    "    for audio_file in os.listdir(genre_path):\n",
    "        audio_path = os.path.join(genre_path, audio_file)\n",
    "        json_file = audio_file.replace('.mp3', '.json')\n",
    "        json_path = os.path.join(features_genre_dir, json_file)\n",
    "\n",
    "        if not os.path.exists(json_path):\n",
    "            features, _ = music_extractor(audio_path)\n",
    "            es.YamlOutput(format='json', filename=json_path)(features)\n",
    "            print('.', end='', flush=True)\n",
    "        else:\n",
    "            print('~', end='', flush=True)\n",
    "    \n",
    "    print()"
   ]
  },
  {
   "cell_type": "markdown",
   "metadata": {},
   "source": [
    "## Process data"
   ]
  },
  {
   "cell_type": "code",
   "execution_count": 76,
   "metadata": {},
   "outputs": [],
   "source": [
    "import numpy as np\n",
    "\n",
    "# Read JSON files and transform them into feature vectors\n",
    "def pool_to_vector(pool):\n",
    "    vector = []\n",
    "    for name in pool.descriptorNames():\n",
    "        value = pool[name]\n",
    "        if type(value) is float:  # TODO: maybe accomodate np.ndarrays\n",
    "            vector.append(value)\n",
    "    return np.array(vector)\n",
    "\n",
    "x = []\n",
    "y = []\n",
    "y_labels = []\n",
    "\n",
    "for genre_dir in os.listdir(features_dir):\n",
    "    y_labels.append(genre_dir)\n",
    "    genre_path = os.path.join(features_dir, genre_dir)\n",
    "    \n",
    "    for feature_file in os.listdir(genre_path):\n",
    "        feature_path = os.path.join(genre_path, feature_file)\n",
    "        \n",
    "        try:\n",
    "            pool = es.YamlInput(filename=feature_path, format='json')()\n",
    "        except RuntimeError as e:\n",
    "            pass\n",
    "        x.append(pool_to_vector(pool))\n",
    "        y.append(len(y_labels) - 1)  # genre index\n",
    "\n",
    "x_raw = np.array(x)\n",
    "y = np.array(y)"
   ]
  },
  {
   "cell_type": "code",
   "execution_count": 77,
   "metadata": {},
   "outputs": [
    {
     "name": "stdout",
     "output_type": "stream",
     "text": [
      "Accuracy: 0.8409090909090909\n"
     ]
    }
   ],
   "source": [
    "import sklearn as sk\n",
    "from sklearn.preprocessing import scale\n",
    "from sklearn.model_selection import StratifiedShuffleSplit as Split\n",
    "from sklearn.svm import SVC\n",
    "from sklearn.metrics import accuracy_score\n",
    "\n",
    "# SVM \n",
    "test_size = 0.2\n",
    "\n",
    "# Pre-process data\n",
    "x = scale(x_raw)\n",
    "\n",
    "# Make a balanced split\n",
    "split = Split(n_splits=1, test_size=test_size, random_state=0)\n",
    "split.get_n_splits(x, y)\n",
    "\n",
    "for idx_train, idx_test in split.split(x, y):\n",
    "    x_train = x[idx_train]\n",
    "    y_train = y[idx_train]\n",
    "\n",
    "    x_test = x[idx_test]\n",
    "    y_test = y[idx_test]\n",
    "\n",
    "    clf = SVC()\n",
    "    clf.fit(x_train, y_train)\n",
    "\n",
    "    y_pred = clf.predict(x_test)\n",
    "    accuracy = accuracy_score(y_test, y_pred)\n",
    "    print('Accuracy: {}'.format(accuracy))"
   ]
  },
  {
   "cell_type": "code",
   "execution_count": 74,
   "metadata": {},
   "outputs": [
    {
     "data": {
      "text/plain": [
       "Text(0.5,0,'Predicted genre')"
      ]
     },
     "execution_count": 74,
     "metadata": {},
     "output_type": "execute_result"
    },
    {
     "data": {
      "image/png": "[encoded data removed]",
      "text/plain": [
       "<matplotlib.figure.Figure at 0x7fdc2f107ef0>"
      ]
     },
     "metadata": {},
     "output_type": "display_data"
    }
   ],
   "source": [
    "import matplotlib.pyplot as plt\n",
    "%matplotlib inline\n",
    "\n",
    "matrix = sk.metrics.confusion_matrix(y_test, y_pred)\n",
    "\n",
    "# Plot\n",
    "plt.imshow(matrix, interpolation='nearest', cmap=plt.cm.Blues)\n",
    "plt.title('Confusion matrix for genre prediction')\n",
    "plt.colorbar()\n",
    "tick_marks = np.arange(len(y_labels))\n",
    "plt.xticks(tick_marks, y_labels)\n",
    "plt.yticks(tick_marks, y_labels)\n",
    "\n",
    "thresh = matrix.max() / 2\n",
    "for i in range(len(y_labels)):\n",
    "    for j in range(len(y_labels)):\n",
    "        plt.text(j, i, matrix[i, j], horizontalalignment=\"center\",\n",
    "                 color=\"white\" if matrix[i, j] > thresh else \"black\")\n",
    "\n",
    "plt.ylabel('True genre')\n",
    "plt.xlabel('Predicted genre')"
   ]
  }
 ],
 "metadata": {
  "kernelspec": {
   "display_name": "Python 3",
   "language": "python",
   "name": "python3"
  },
  "language_info": {
   "codemirror_mode": {
    "name": "ipython",
    "version": 3
   },
   "file_extension": ".py",
   "mimetype": "text/x-python",
   "name": "python",
   "nbconvert_exporter": "python",
   "pygments_lexer": "ipython3",
   "version": "3.5.2"
  }
 },
 "nbformat": 4,
 "nbformat_minor": 2
}
