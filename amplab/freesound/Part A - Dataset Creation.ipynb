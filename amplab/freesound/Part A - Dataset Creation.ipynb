{
 "cells": [
  {
   "cell_type": "markdown",
   "metadata": {},
   "source": [
    "# AMPLab assignment: text-based audio classification \n",
    "Original notebook wirtten by Frederic Font, extended by Philip Tovstogan"
   ]
  },
  {
   "cell_type": "markdown",
   "metadata": {},
   "source": [
    "## PART A - Prepare and explore your dataset\n",
    "\n",
    "To run the cells in this notebook you'll need to install the following Python dependencies:\n",
    " * `numpy`\n",
    " * `sklearn`\n",
    "\n",
    "If you have not installed them you should be able to do so by running: `pip install numpy sklearn`.\n",
    "\n",
    "Furthermore, you'll need to get **Freesound API** credentials so that you can retreive sounds' metadata for building your dataset. Please create a Freesound account (if you don't already have one) and go here: [http://www.freesound.org/apiv2/apply/](http://www.freesound.org/apiv2/apply/). Set `API_KEY` variable below to the given API key.\n",
    "\n",
    "*All comments by that are specific to experiment will be italicized*"
   ]
  },
  {
   "cell_type": "code",
   "execution_count": 1,
   "metadata": {},
   "outputs": [],
   "source": [
    "from __future__ import print_function\n",
    "import freesound\n",
    "import random\n",
    "import utils\n",
    "import json\n",
    "from IPython.core.display import display, HTML\n",
    "from collections import defaultdict\n",
    "\n",
    "API_KEY='4d04f7cdc18cce80b1fbeeec17f99eaf5c3842fd'\n",
    "c = freesound.FreesoundClient()\n",
    "c.set_token(API_KEY,\"token\")\n",
    "PAGE_SIZE = 50 # Page size for fs requests, no need to change that"
   ]
  },
  {
   "cell_type": "markdown",
   "metadata": {},
   "source": [
    "### 1) Select your audio categories and get metadata from Freesound for each category\n",
    "\n",
    "For the task in this session we provide a pre-selected number of audio categories with a number of Freesound sound IDs linked to them. The first step is to choose which classes to include in the dataset that we'll use later for classification and to get metadata for each sound in our dataset.\n",
    "\n",
    " * Chose the categories you want to work with by editing the `DATASET_CLASSES` list below. \n",
    " * You can limit the number of sounds chosen per class by setting the `N` parameter. \n",
    " * The resulting dataset will be saved to a file named `DATASET_NAME.json`. This file will be loaded later in another  notebook to carry out the classification task.\n",
    " \n",
    "*The goal of my experiment is to compare performace of classifier that distinguishes bowed and plucked string instruments with and without audio features. Audio features that potentially are relevant to this distinction: **spectral centroid** (should be higher for plucked) and **HFC** (should be larger for plucked because of transients)*"
   ]
  },
  {
   "cell_type": "code",
   "execution_count": 2,
   "metadata": {
    "scrolled": false
   },
   "outputs": [
    {
     "name": "stdout",
     "output_type": "stream",
     "text": [
      "Getting sounds' data for class Bowed string instrument...\n",
      "Getting sounds' data for class Plucked string instrument...\n",
      "\n",
      "Dataset created with 2 classes:\n",
      "\tPlucked string instrument: 200 sounds\n",
      "\tBowed string instrument: 200 sounds\n",
      "Saved to bowed_vs_plucked.json\n"
     ]
    }
   ],
   "source": [
    "# Configure dataset parameters and audio categories\n",
    "\n",
    "DATASET_NAME = 'bowed_vs_plucked' # Dataset will be saved in a .json file with this name\n",
    "N = None # Number of sounds per class (set 'None' to get all in dataset)\n",
    "DATASET_CLASSES = [\n",
    "    #'Percussion', \n",
    "    #'Brass instrument', \n",
    "    #'Wind instrument, woodwind instrument', \n",
    "    'Bowed string instrument', \n",
    "    'Plucked string instrument', \n",
    "    #'Singing', \n",
    "    #'Speech', \n",
    "    #'Domestic sounds, home sounds', \n",
    "    #'Vehicle', \n",
    "    #'Generic impact sounds', \n",
    "    #'Mechanisms'\n",
    "]\n",
    "\n",
    "# Get sound examples from Freesound\n",
    "data_index =  json.load(open('data_index.json'))\n",
    "dataset = defaultdict(list)\n",
    "\n",
    "for klass in DATASET_CLASSES:\n",
    "    sound_ids = data_index.get(klass, None)\n",
    "    if sound_ids is None:\n",
    "        print('Skipping class %s as no data is available for it' % klass)\n",
    "        continue\n",
    "    random.shuffle(sound_ids)  # Shuffle order of sound ids\n",
    "    sound_ids = sound_ids[:N]  # Limit number of selected sound ids\n",
    "    \n",
    "    print('Getting sounds\\' data for class %s...' % klass)\n",
    "    for i in range(0, len(sound_ids), PAGE_SIZE):\n",
    "        current_sound_ids = sound_ids[i:i + PAGE_SIZE]\n",
    "    \n",
    "        results_pager = c.text_search(\n",
    "            filter='id:(%s)' % ' OR '.join([str(sid) for sid in current_sound_ids]),\n",
    "            page_size=PAGE_SIZE,\n",
    "            fields = \"id,tags,description,username,analysis\",\n",
    "            descriptors = \"lowlevel.spectral_centroid.mean,lowlevel.hfc.mean\"\n",
    "        )\n",
    "        dataset[klass] += results_pager.results\n",
    "        \n",
    "        # TIP ON AUDIO FEATURES: you can get also audio features extracted in freesound by passing a 'descriptors' \n",
    "        # parameter in the text_search function and including 'analysis' in the fields list \n",
    "        # (see http://www.freesound.org/docs/api/resources_apiv2.html#response-sound-list):\n",
    "        #\n",
    "        # fields = \"id,tags,description,username,analysis\"\n",
    "        # descriptors = \"lowlevel.spectral_centroid,lowlevel.barkbands.mean\"\n",
    "        #\n",
    "        # e.g.: results_page = c.text_search(query=target_query, ..., fields=fields, descriptors=descriptors)\n",
    "        # ...\n",
    "\n",
    "# Show information and save dataset to file so we can work with it later on\n",
    "utils.save_to_json('%s.json' % DATASET_NAME, dataset)\n",
    "print('\\nDataset created with %i classes:' % len(dataset))\n",
    "for klass, sounds in dataset.items():\n",
    "    print('\\t%s: %i sounds' % (klass, len(sounds)))\n",
    "print('Saved to %s' % '%s.json' % DATASET_NAME)"
   ]
  },
  {
   "cell_type": "markdown",
   "metadata": {},
   "source": [
    "### 2) Explore the dataset (know your data!)\n",
    "\n",
    "The cell below displays some data about your recently created dataset so you can have an idea of its contents. Feel free to experiment with the data and add any relevant plots that you might find useful for the future classificaiton task."
   ]
  },
  {
   "cell_type": "code",
   "execution_count": 3,
   "metadata": {
    "scrolled": false
   },
   "outputs": [
    {
     "data": {
      "text/html": [
       "<h3 style='color:#bbb;'>1) Plucked string instrument</h3><h4>Example sounds:</h4><br><iframe frameborder=\"0\" scrolling=\"no\" src=\"http://www.freesound.org/embed/sound/iframe/324057/simple/medium/\" width=\"481\" height=\"86\"></iframe><iframe frameborder=\"0\" scrolling=\"no\" src=\"http://www.freesound.org/embed/sound/iframe/328822/simple/medium/\" width=\"481\" height=\"86\"></iframe><iframe frameborder=\"0\" scrolling=\"no\" src=\"http://www.freesound.org/embed/sound/iframe/330901/simple/medium/\" width=\"481\" height=\"86\"></iframe><iframe frameborder=\"0\" scrolling=\"no\" src=\"http://www.freesound.org/embed/sound/iframe/349978/simple/medium/\" width=\"481\" height=\"86\"></iframe><iframe frameborder=\"0\" scrolling=\"no\" src=\"http://www.freesound.org/embed/sound/iframe/362411/simple/medium/\" width=\"481\" height=\"86\"></iframe><iframe frameborder=\"0\" scrolling=\"no\" src=\"http://www.freesound.org/embed/sound/iframe/252333/simple/medium/\" width=\"481\" height=\"86\"></iframe><h4>Most commons tags tagcloud:</h4><br><span style=\"font-size:10px;margin-right:10px;\">acorde</span> <span style=\"font-size:10px;margin-right:10px;\">stereo</span> <span style=\"font-size:10px;margin-right:10px;\">stupid</span> <span style=\"font-size:10px;margin-right:10px;\">note</span> <span style=\"font-size:10px;margin-right:10px;\">harmony</span> <span style=\"font-size:10px;margin-right:10px;\">uke</span> <span style=\"font-size:10px;margin-right:10px;\">d-string</span> <span style=\"font-size:10px;margin-right:10px;\">distortion</span> <span style=\"font-size:10px;margin-right:10px;\">microphone</span> <span style=\"font-size:10px;margin-right:10px;\">indie</span> <span style=\"font-size:10px;margin-right:10px;\">loop</span> <span style=\"font-size:10px;margin-right:10px;\">spanish-guitar</span> <span style=\"font-size:10px;margin-right:10px;\">pluck</span> <span style=\"font-size:10px;margin-right:10px;\">les-paul</span> <span style=\"font-size:13px;margin-right:10px;\">chord</span> <span style=\"font-size:10px;margin-right:10px;\">heavy</span> <span style=\"font-size:10px;margin-right:10px;\">studio-recording</span> <span style=\"font-size:10px;margin-right:10px;\">e</span> <span style=\"font-size:10px;margin-right:10px;\">original-music</span> <span style=\"font-size:10px;margin-right:10px;\">yamaha</span> <span style=\"font-size:10px;margin-right:10px;\">scale</span> <span style=\"font-size:10px;margin-right:10px;\">ambient</span> <span style=\"font-size:10px;margin-right:10px;\">strings</span> <span style=\"font-size:10px;margin-right:10px;\">single-notes</span> <span style=\"font-size:10px;margin-right:10px;\">acoustic-guitar</span> <span style=\"font-size:10px;margin-right:10px;\">multisample</span> <span style=\"font-size:10px;margin-right:10px;\">120bpm</span> <span style=\"font-size:10px;margin-right:10px;\">strumming</span> <span style=\"font-size:10px;margin-right:10px;\">room-mic</span> <span style=\"font-size:10px;margin-right:10px;\">drum-beat</span> <span style=\"font-size:10px;margin-right:10px;\">beat</span> <span style=\"font-size:10px;margin-right:10px;\">power</span> <span style=\"font-size:10px;margin-right:10px;\">1-shot</span> <span style=\"font-size:10px;margin-right:10px;\">free</span> <span style=\"font-size:10px;margin-right:10px;\">strum</span> <span style=\"font-size:10px;margin-right:10px;\">plucked</span> <span style=\"font-size:10px;margin-right:10px;\">overdrive</span> <span style=\"font-size:10px;margin-right:10px;\">crap</span> <span style=\"font-size:10px;margin-right:10px;\">piano</span> <span style=\"font-size:10px;margin-right:10px;\">creative-commons</span> <span style=\"font-size:10px;margin-right:10px;\">chords</span> <span style=\"font-size:10px;margin-right:10px;\">samples</span> <span style=\"font-size:10px;margin-right:10px;\">160bpm</span> <span style=\"font-size:10px;margin-right:10px;\">open-chords</span> <span style=\"font-size:10px;margin-right:10px;\">muted</span> <span style=\"font-size:10px;margin-right:10px;\">whistle</span> <span style=\"font-size:10px;margin-right:10px;\">nylon</span> <span style=\"font-size:10px;margin-right:10px;\">non-vibrato</span> <span style=\"font-size:10px;margin-right:10px;\">distorted</span> <span style=\"font-size:10px;margin-right:10px;\">Electric</span> <span style=\"font-size:10px;margin-right:10px;\">bass</span> <span style=\"font-size:10px;margin-right:10px;\">nylon-guitar</span> <span style=\"font-size:10px;margin-right:10px;\">notes</span> <span style=\"font-size:10px;margin-right:10px;\">loops</span> <span style=\"font-size:10px;margin-right:10px;\">child</span> <span style=\"font-size:10px;margin-right:10px;\">ukelele</span> <span style=\"font-size:10px;margin-right:10px;\">clean</span> <span style=\"font-size:30px;margin-right:10px;\">guitar</span> <span style=\"font-size:10px;margin-right:10px;\">Guitar</span> <span style=\"font-size:10px;margin-right:10px;\">riff</span> <span style=\"font-size:10px;margin-right:10px;\">classical</span> <span style=\"font-size:10px;margin-right:10px;\">percussion</span> <span style=\"font-size:10px;margin-right:10px;\">string</span> <span style=\"font-size:10px;margin-right:10px;\">e-string</span> <span style=\"font-size:10px;margin-right:10px;\">drop-d</span> <span style=\"font-size:10px;margin-right:10px;\">drums</span> <span style=\"font-size:10px;margin-right:10px;\">classical-guitar</span> <span style=\"font-size:10px;margin-right:10px;\">vocal-loops</span> <span style=\"font-size:19px;margin-right:10px;\">acoustic</span> <span style=\"font-size:10px;margin-right:10px;\">music</span> <span style=\"font-size:10px;margin-right:10px;\">sounds</span> <span style=\"font-size:10px;margin-right:10px;\">mezzoforte</span> <span style=\"font-size:10px;margin-right:10px;\">sample</span> <span style=\"font-size:10px;margin-right:10px;\">looping</span> <span style=\"font-size:10px;margin-right:10px;\">melody</span> <span style=\"font-size:10px;margin-right:10px;\">acapella</span> <span style=\"font-size:10px;margin-right:10px;\">ukulele</span> <span style=\"font-size:10px;margin-right:10px;\">Indie-folk</span> <span style=\"font-size:11px;margin-right:10px;\">electric</span> <span style=\"font-size:10px;margin-right:10px;\">power-chord</span> <span style=\"font-size:10px;margin-right:10px;\">crappy</span> <span style=\"font-size:10px;margin-right:10px;\">singing</span> <span style=\"font-size:10px;margin-right:10px;\">instrument</span> <span style=\"font-size:10px;margin-right:10px;\">rock</span> <span style=\"font-size:10px;margin-right:10px;\">children</span> <span style=\"font-size:10px;margin-right:10px;\">jaguar</span> <span style=\"font-size:10px;margin-right:10px;\">button</span> <span style=\"font-size:10px;margin-right:10px;\">zoom-h2n</span> <span style=\"font-size:10px;margin-right:10px;\">small</span> <span style=\"font-size:10px;margin-right:10px;\">synth</span> <span style=\"font-size:10px;margin-right:10px;\">Folk</span> <span style=\"font-size:10px;margin-right:10px;\">bar-chords</span> <span style=\"font-size:10px;margin-right:10px;\">chordophone</span> <span style=\"font-size:10px;margin-right:10px;\">velocity</span> <span style=\"font-size:10px;margin-right:10px;\">flamenco</span> <span style=\"font-size:10px;margin-right:10px;\">strummed</span> <span style=\"font-size:10px;margin-right:10px;\">voice</span> <span style=\"font-size:10px;margin-right:10px;\">squire</span> <span style=\"font-size:10px;margin-right:10px;\">plucked-string-instrument</span> <span style=\"font-size:10px;margin-right:10px;\">unprocessed</span> <br><br>"
      ],
      "text/plain": [
       "<IPython.core.display.HTML object>"
      ]
     },
     "metadata": {},
     "output_type": "display_data"
    },
    {
     "data": {
      "text/html": [
       "<h3 style='color:#bbb;'>2) Bowed string instrument</h3><h4>Example sounds:</h4><br><iframe frameborder=\"0\" scrolling=\"no\" src=\"http://www.freesound.org/embed/sound/iframe/354187/simple/medium/\" width=\"481\" height=\"86\"></iframe><iframe frameborder=\"0\" scrolling=\"no\" src=\"http://www.freesound.org/embed/sound/iframe/354212/simple/medium/\" width=\"481\" height=\"86\"></iframe><iframe frameborder=\"0\" scrolling=\"no\" src=\"http://www.freesound.org/embed/sound/iframe/354217/simple/medium/\" width=\"481\" height=\"86\"></iframe><iframe frameborder=\"0\" scrolling=\"no\" src=\"http://www.freesound.org/embed/sound/iframe/354311/simple/medium/\" width=\"481\" height=\"86\"></iframe><iframe frameborder=\"0\" scrolling=\"no\" src=\"http://www.freesound.org/embed/sound/iframe/354313/simple/medium/\" width=\"481\" height=\"86\"></iframe><iframe frameborder=\"0\" scrolling=\"no\" src=\"http://www.freesound.org/embed/sound/iframe/357993/simple/medium/\" width=\"481\" height=\"86\"></iframe><h4>Most commons tags tagcloud:</h4><br><span style=\"font-size:10px;margin-right:10px;\">Gsharp2</span> <span style=\"font-size:24px;margin-right:10px;\">single-note</span> <span style=\"font-size:10px;margin-right:10px;\">Stereo</span> <span style=\"font-size:10px;margin-right:10px;\">Double</span> <span style=\"font-size:10px;margin-right:10px;\">b5</span> <span style=\"font-size:10px;margin-right:10px;\">Plucked</span> <span style=\"font-size:10px;margin-right:10px;\">Acoustic</span> <span style=\"font-size:10px;margin-right:10px;\">midi-velocity-95</span> <span style=\"font-size:10px;margin-right:10px;\">c4</span> <span style=\"font-size:10px;margin-right:10px;\">cello-section</span> <span style=\"font-size:30px;margin-right:10px;\">multisample</span> <span style=\"font-size:10px;margin-right:10px;\">midi-note-86</span> <span style=\"font-size:10px;margin-right:10px;\">scale</span> <span style=\"font-size:21px;margin-right:10px;\">pizzicato</span> <span style=\"font-size:10px;margin-right:10px;\">midi-note-53</span> <span style=\"font-size:10px;margin-right:10px;\">G2</span> <span style=\"font-size:10px;margin-right:10px;\">g-3</span> <span style=\"font-size:10px;margin-right:10px;\">a3</span> <span style=\"font-size:10px;margin-right:10px;\">C2</span> <span style=\"font-size:10px;margin-right:10px;\">orchestra</span> <span style=\"font-size:10px;margin-right:10px;\">zoom-h2n</span> <span style=\"font-size:10px;margin-right:10px;\">Instrument</span> <span style=\"font-size:10px;margin-right:10px;\">tenuto</span> <span style=\"font-size:10px;margin-right:10px;\">fsharp4</span> <span style=\"font-size:10px;margin-right:10px;\">double</span> <span style=\"font-size:10px;margin-right:10px;\">D3</span> <span style=\"font-size:10px;margin-right:10px;\">C4</span> <span style=\"font-size:10px;margin-right:10px;\">bowed</span> <span style=\"font-size:10px;margin-right:10px;\">pluck</span> <span style=\"font-size:10px;margin-right:10px;\">b-4</span> <span style=\"font-size:10px;margin-right:10px;\">Fsharp2</span> <span style=\"font-size:10px;margin-right:10px;\">chordophone</span> <span style=\"font-size:13px;margin-right:10px;\">strings</span> <span style=\"font-size:10px;margin-right:10px;\">slow</span> <span style=\"font-size:10px;margin-right:10px;\">bowing</span> <span style=\"font-size:10px;margin-right:10px;\">g-sharp-1</span> <span style=\"font-size:10px;margin-right:10px;\">mezzoforte</span> <span style=\"font-size:10px;margin-right:10px;\">phone</span> <span style=\"font-size:10px;margin-right:10px;\">orchestral</span> <span style=\"font-size:10px;margin-right:10px;\">midi-note-69</span> <span style=\"font-size:10px;margin-right:10px;\">a4</span> <span style=\"font-size:10px;margin-right:10px;\">vibrato</span> <span style=\"font-size:10px;margin-right:10px;\">d6</span> <span style=\"font-size:10px;margin-right:10px;\">contrabass</span> <span style=\"font-size:10px;margin-right:10px;\">B3</span> <span style=\"font-size:10px;margin-right:10px;\">note</span> <span style=\"font-size:10px;margin-right:10px;\">tight-pizzicato</span> <span style=\"font-size:10px;margin-right:10px;\">plucked</span> <span style=\"font-size:10px;margin-right:10px;\">midi-velocity-31</span> <span style=\"font-size:10px;margin-right:10px;\">descending</span> <span style=\"font-size:10px;margin-right:10px;\">g2</span> <span style=\"font-size:10px;margin-right:10px;\">zoom</span> <span style=\"font-size:10px;margin-right:10px;\">midi-note-72</span> <span style=\"font-size:10px;margin-right:10px;\">acoustic</span> <span style=\"font-size:10px;margin-right:10px;\">bad</span> <span style=\"font-size:10px;margin-right:10px;\">A3</span> <span style=\"font-size:10px;margin-right:10px;\">F4</span> <span style=\"font-size:10px;margin-right:10px;\">Dsharp4</span> <span style=\"font-size:10px;margin-right:10px;\">midi-note-60</span> <span style=\"font-size:10px;margin-right:10px;\">midi-velocity-63</span> <span style=\"font-size:10px;margin-right:10px;\">esharp3</span> <span style=\"font-size:10px;margin-right:10px;\">glitchy</span> <span style=\"font-size:11px;margin-right:10px;\">vsco-2</span> <span style=\"font-size:10px;margin-right:10px;\">viola</span> <span style=\"font-size:17px;margin-right:10px;\">neumann-U87</span> <span style=\"font-size:10px;margin-right:10px;\">dirty</span> <span style=\"font-size:10px;margin-right:10px;\">classic</span> <span style=\"font-size:10px;margin-right:10px;\">col-legno</span> <span style=\"font-size:10px;margin-right:10px;\">glitch</span> <span style=\"font-size:10px;margin-right:10px;\">ensemble</span> <span style=\"font-size:10px;margin-right:10px;\">cheap</span> <span style=\"font-size:17px;margin-right:10px;\">good-sounds</span> <span style=\"font-size:10px;margin-right:10px;\">loops</span> <span style=\"font-size:10px;margin-right:10px;\">midi-note-59</span> <span style=\"font-size:10px;margin-right:10px;\">violin-section</span> <span style=\"font-size:10px;margin-right:10px;\">midi-note-57</span> <span style=\"font-size:10px;margin-right:10px;\">b3</span> <span style=\"font-size:10px;margin-right:10px;\">string-instrument</span> <span style=\"font-size:10px;margin-right:10px;\">g-sharp-3</span> <span style=\"font-size:10px;margin-right:10px;\">solo-violin</span> <span style=\"font-size:10px;margin-right:10px;\">Csharp2</span> <span style=\"font-size:10px;margin-right:10px;\">Fsharp3</span> <span style=\"font-size:10px;margin-right:10px;\">c5</span> <span style=\"font-size:10px;margin-right:10px;\">Gsharp4</span> <span style=\"font-size:10px;margin-right:10px;\">Standup</span> <span style=\"font-size:10px;margin-right:10px;\">bass</span> <span style=\"font-size:10px;margin-right:10px;\">Bass</span> <span style=\"font-size:10px;margin-right:10px;\">message</span> <span style=\"font-size:10px;margin-right:10px;\">midi-note-83</span> <span style=\"font-size:19px;margin-right:10px;\">violin</span> <span style=\"font-size:10px;margin-right:10px;\">G3</span> <span style=\"font-size:10px;margin-right:10px;\">Gsharp3</span> <span style=\"font-size:11px;margin-right:10px;\">non-vibrato</span> <span style=\"font-size:10px;margin-right:10px;\">Upright</span> <span style=\"font-size:10px;margin-right:10px;\">Asharp3</span> <span style=\"font-size:10px;margin-right:10px;\">C3</span> <span style=\"font-size:18px;margin-right:10px;\">cello</span> <span style=\"font-size:11px;margin-right:10px;\">double-bass</span> <span style=\"font-size:10px;margin-right:10px;\">recording</span> <span style=\"font-size:10px;margin-right:10px;\">midi-note-67</span> <br><br>"
      ],
      "text/plain": [
       "<IPython.core.display.HTML object>"
      ]
     },
     "metadata": {},
     "output_type": "display_data"
    }
   ],
   "source": [
    "# Pick some sounds from each category and show players (Freesound embeds) to listen to them\n",
    "for count, (class_name, sounds) in enumerate(dataset.items()):\n",
    "    html = \"<h3 style='color:#bbb;'>%i) %s</h3>\" % (count + 1, class_name)\n",
    "    html += \"<h4>Example sounds:</h4><br>\"\n",
    "    html += utils.generate_html_with_sound_examples([sound['id'] for sound in sounds][:6])\n",
    "    html += \"<h4>Most commons tags tagcloud:</h4><br>\"\n",
    "    class_tags = utils.get_all_tags_from_class(class_name, dataset)\n",
    "    html += utils.generate_html_tagcloud(class_tags, N=100, max_px=30, min_px=10, pow_scale=1.2)\n",
    "    html += \"<br><br>\"\n",
    "    display(HTML(html)) # <- This is pure jupyter notebook AWESOMENESS which renders the HTML in the output of the cell"
   ]
  },
  {
   "cell_type": "markdown",
   "metadata": {},
   "source": [
    "*Here we can see that our data is not clean enough, there are some pizzicatto samples in bowed class. This limits the performance of our classifier, but because we are focusing on relative improvement it is fine for this experiment.*"
   ]
  }
 ],
 "metadata": {
  "kernelspec": {
   "display_name": "Python 3",
   "language": "python",
   "name": "python3"
  },
  "language_info": {
   "codemirror_mode": {
    "name": "ipython",
    "version": 3
   },
   "file_extension": ".py",
   "mimetype": "text/x-python",
   "name": "python",
   "nbconvert_exporter": "python",
   "pygments_lexer": "ipython3",
   "version": "3.5.2"
  }
 },
 "nbformat": 4,
 "nbformat_minor": 1
}
