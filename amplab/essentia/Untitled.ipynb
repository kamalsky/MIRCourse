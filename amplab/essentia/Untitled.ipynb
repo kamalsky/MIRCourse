{
 "cells": [
  {
   "cell_type": "code",
   "execution_count": 37,
   "metadata": {},
   "outputs": [],
   "source": [
    "import json\n",
    "import pandas as pd\n",
    "import essentia.standard as es\n",
    "import matplotlib.pyplot as plt\n",
    "import numpy as np"
   ]
  },
  {
   "cell_type": "code",
   "execution_count": 4,
   "metadata": {},
   "outputs": [],
   "source": [
    "with open('test.json') as fp:\n",
    "    data = json.load(fp)"
   ]
  },
  {
   "cell_type": "code",
   "execution_count": 21,
   "metadata": {},
   "outputs": [],
   "source": [
    "feature_vector = []\n",
    "stats = ['mean', 'stdev']\n",
    "categories = ['lowlevel', 'tonal', 'rhythm']\n",
    "\n"
   ]
  },
  {
   "cell_type": "code",
   "execution_count": 23,
   "metadata": {},
   "outputs": [],
   "source": [
    "pool = es.YamlInput(filename='test.json', format='json')()\n"
   ]
  },
  {
   "cell_type": "code",
   "execution_count": 32,
   "metadata": {},
   "outputs": [],
   "source": [
    "def pool_to_vector(pool):\n",
    "    vector = []\n",
    "    for name in pool.descriptorNames():\n",
    "        value = pool[name]\n",
    "        if type(value) is float:  # TODO accomodate np.ndarrays\n",
    "            vector.append(value)\n",
    "    return np.array[vector]"
   ]
  },
  {
   "cell_type": "code",
   "execution_count": 43,
   "metadata": {},
   "outputs": [
    {
     "data": {
      "text/plain": [
       "Text(0.5,15,'Predicted genre')"
      ]
     },
     "execution_count": 43,
     "metadata": {},
     "output_type": "execute_result"
    },
    {
     "data": {
      "image/png": "[encoded data removed]",
      "text/plain": [
       "<matplotlib.figure.Figure at 0x7f95ba12fe10>"
      ]
     },
     "metadata": {},
     "output_type": "display_data"
    }
   ],
   "source": [
    "# Plot\n",
    "matrix = np.array([[1,0,0.1],[0.2,1,0],[0,0,1]])\n",
    "y_labels = [\"aaa\", 'bbb', 'ccc']\n",
    "\n",
    "plt.imshow(matrix, interpolation='nearest', cmap=plt.cm.Blues)\n",
    "plt.title('Confusion matrix for genre prediction')\n",
    "plt.colorbar()\n",
    "tick_marks = np.arange(len(y_labels))\n",
    "plt.xticks(tick_marks, y_labels)\n",
    "plt.yticks(tick_marks, y_labels)\n",
    "\n",
    "thresh = matrix.max() / 2\n",
    "for i in range(len(y_labels)):\n",
    "    for j in range(len(y_labels)):\n",
    "        plt.text(j, i, matrix[i, j], horizontalalignment=\"center\",\n",
    "                 color=\"white\" if matrix[i, j] > thresh else \"black\")\n",
    "\n",
    "plt.ylabel('True genre')\n",
    "plt.xlabel('Predicted genre')"
   ]
  }
 ],
 "metadata": {
  "kernelspec": {
   "display_name": "Python 3",
   "language": "python",
   "name": "python3"
  },
  "language_info": {
   "codemirror_mode": {
    "name": "ipython",
    "version": 3
   },
   "file_extension": ".py",
   "mimetype": "text/x-python",
   "name": "python",
   "nbconvert_exporter": "python",
   "pygments_lexer": "ipython3",
   "version": "3.5.2"
  }
 },
 "nbformat": 4,
 "nbformat_minor": 2
}
