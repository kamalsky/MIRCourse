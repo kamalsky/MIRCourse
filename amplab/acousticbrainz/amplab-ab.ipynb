{
 "cells": [
  {
   "cell_type": "markdown",
   "metadata": {},
   "source": [
    "## [AMPLab] AcousticBrainz task"
   ]
  },
  {
   "cell_type": "code",
   "execution_count": 56,
   "metadata": {},
   "outputs": [],
   "source": [
    "data_dir = 'ab-duplicates100-2016-03-02'"
   ]
  },
  {
   "cell_type": "code",
   "execution_count": 4,
   "metadata": {},
   "outputs": [
    {
     "name": "stdout",
     "output_type": "stream",
     "text": [
      "--2018-02-23 15:23:33--  http://www.dtic.upf.edu/~aporter/amplab/2017/ab-duplicates100-2016-03-02.tar.bz2\n",
      "Resolving www.dtic.upf.edu (www.dtic.upf.edu)... 84.89.136.28\n",
      "Connecting to www.dtic.upf.edu (www.dtic.upf.edu)|84.89.136.28|:80... connected.\n",
      "HTTP request sent, awaiting response... 200 OK\n",
      "Length: 140107852 (134M) [application/x-bzip2]\n",
      "Saving to: ‘ab-duplicates100-2016-03-02.tar.bz2’\n",
      "\n",
      "ab-duplicates100-20 100%[===================>] 133.62M  11.1MB/s    in 12s     \n",
      "\n",
      "2018-02-23 15:23:45 (11.1 MB/s) - ‘ab-duplicates100-2016-03-02.tar.bz2’ saved [140107852/140107852]\n",
      "\n"
     ]
    }
   ],
   "source": [
    "!wget http://www.dtic.upf.edu/~aporter/amplab/2017/{data_dir}.tar.bz2"
   ]
  },
  {
   "cell_type": "code",
   "execution_count": null,
   "metadata": {},
   "outputs": [],
   "source": [
    "!tar xjf {data_dir}.tar.bz2"
   ]
  },
  {
   "cell_type": "code",
   "execution_count": 7,
   "metadata": {},
   "outputs": [
    {
     "name": "stdout",
     "output_type": "stream",
     "text": [
      "--2018-02-23 15:28:45--  https://raw.githubusercontent.com/MTG/essentia/master/src/examples/python/json_to_csv.py\n",
      "Resolving raw.githubusercontent.com (raw.githubusercontent.com)... 151.101.132.133\n",
      "Connecting to raw.githubusercontent.com (raw.githubusercontent.com)|151.101.132.133|:443... connected.\n",
      "HTTP request sent, awaiting response... 200 OK\n",
      "Length: 4638 (4.5K) [text/plain]\n",
      "Saving to: ‘json_to_csv.py.2’\n",
      "\n",
      "json_to_csv.py.2    100%[===================>]   4.53K  --.-KB/s    in 0s      \n",
      "\n",
      "2018-02-23 15:28:45 (55.2 MB/s) - ‘json_to_csv.py.2’ saved [4638/4638]\n",
      "\n"
     ]
    }
   ],
   "source": [
    "!wget https://raw.githubusercontent.com/MTG/essentia/master/src/examples/python/json_to_csv.py"
   ]
  },
  {
   "cell_type": "markdown",
   "metadata": {},
   "source": [
    "## Data cleaning"
   ]
  },
  {
   "cell_type": "code",
   "execution_count": 62,
   "metadata": {},
   "outputs": [],
   "source": [
    "import os\n",
    "from json_to_csv import convert_all\n",
    "\n",
    "features = [\n",
    "    'metadata.audio_properties.length',\n",
    "    'metadata.audio_properties.replay_gain',\n",
    "    'lowlevel.average_loudness',\n",
    "    'rhythm.bpm',\n",
    "    'rhythm.onset_rate',\n",
    "#     'rhythm.beats_position.*',  # variable length\n",
    "    'tonal.chords_histogram.*',\n",
    "    'tonal.hpcp.mean.*',\n",
    "    'tonal.key_key',\n",
    "    'tonal.key_scale',\n",
    "    'tonal.tuning_frequency'\n",
    "]\n",
    "\n",
    "csv_dir = 'csv'"
   ]
  },
  {
   "cell_type": "code",
   "execution_count": 63,
   "metadata": {
    "collapsed": true
   },
   "outputs": [
    {
     "name": "stdout",
     "output_type": "stream",
     "text": [
      "Writing to csv/00062658-acfc-4bdf-806f-aa6ec85e8ddd.csv\n",
      "Converting ab-duplicates1000-2016-03-02/00/00062658-acfc-4bdf-806f-aa6ec85e8ddd-1.json\n",
      "Converting ab-duplicates1000-2016-03-02/00/00062658-acfc-4bdf-806f-aa6ec85e8ddd-10.json\n",
      "Converting ab-duplicates1000-2016-03-02/00/00062658-acfc-4bdf-806f-aa6ec85e8ddd-11.json\n",
      "Converting ab-duplicates1000-2016-03-02/00/00062658-acfc-4bdf-806f-aa6ec85e8ddd-12.json\n",
      "Converting ab-duplicates1000-2016-03-02/00/00062658-acfc-4bdf-806f-aa6ec85e8ddd-13.json\n",
      "Converting ab-duplicates1000-2016-03-02/00/00062658-acfc-4bdf-806f-aa6ec85e8ddd-14.json\n",
      "Converting ab-duplicates1000-2016-03-02/00/00062658-acfc-4bdf-806f-aa6ec85e8ddd-15.json\n",
      "Converting ab-duplicates1000-2016-03-02/00/00062658-acfc-4bdf-806f-aa6ec85e8ddd-16.json\n",
      "Converting ab-duplicates1000-2016-03-02/00/00062658-acfc-4bdf-806f-aa6ec85e8ddd-17.json\n",
      "Converting ab-duplicates1000-2016-03-02/00/00062658-acfc-4bdf-806f-aa6ec85e8ddd-18.json\n",
      "Converting ab-duplicates1000-2016-03-02/00/00062658-acfc-4bdf-806f-aa6ec85e8ddd-19.json\n",
      "Converting ab-duplicates1000-2016-03-02/00/00062658-acfc-4bdf-806f-aa6ec85e8ddd-2.json\n",
      "Converting ab-duplicates1000-2016-03-02/00/00062658-acfc-4bdf-806f-aa6ec85e8ddd-20.json\n",
      "Converting ab-duplicates1000-2016-03-02/00/00062658-acfc-4bdf-806f-aa6ec85e8ddd-21.json\n",
      "Converting ab-duplicates1000-2016-03-02/00/00062658-acfc-4bdf-806f-aa6ec85e8ddd-22.json\n",
      "Converting ab-duplicates1000-2016-03-02/00/00062658-acfc-4bdf-806f-aa6ec85e8ddd-23.json\n",
      "Converting ab-duplicates1000-2016-03-02/00/00062658-acfc-4bdf-806f-aa6ec85e8ddd-24.json\n",
      "Converting ab-duplicates1000-2016-03-02/00/00062658-acfc-4bdf-806f-aa6ec85e8ddd-25.json\n",
      "Converting ab-duplicates1000-2016-03-02/00/00062658-acfc-4bdf-806f-aa6ec85e8ddd-26.json\n",
      "Converting ab-duplicates1000-2016-03-02/00/00062658-acfc-4bdf-806f-aa6ec85e8ddd-27.json\n",
      "Converting ab-duplicates1000-2016-03-02/00/00062658-acfc-4bdf-806f-aa6ec85e8ddd-28.json\n",
      "Converting ab-duplicates1000-2016-03-02/00/00062658-acfc-4bdf-806f-aa6ec85e8ddd-29.json\n",
      "Converting ab-duplicates1000-2016-03-02/00/00062658-acfc-4bdf-806f-aa6ec85e8ddd-3.json\n",
      "Converting ab-duplicates1000-2016-03-02/00/00062658-acfc-4bdf-806f-aa6ec85e8ddd-30.json\n",
      "Converting ab-duplicates1000-2016-03-02/00/00062658-acfc-4bdf-806f-aa6ec85e8ddd-31.json\n",
      "Converting ab-duplicates1000-2016-03-02/00/00062658-acfc-4bdf-806f-aa6ec85e8ddd-32.json\n",
      "Converting ab-duplicates1000-2016-03-02/00/00062658-acfc-4bdf-806f-aa6ec85e8ddd-4.json\n",
      "Converting ab-duplicates1000-2016-03-02/00/00062658-acfc-4bdf-806f-aa6ec85e8ddd-5.json\n",
      "Converting ab-duplicates1000-2016-03-02/00/00062658-acfc-4bdf-806f-aa6ec85e8ddd-6.json\n",
      "Converting ab-duplicates1000-2016-03-02/00/00062658-acfc-4bdf-806f-aa6ec85e8ddd-7.json\n",
      "Converting ab-duplicates1000-2016-03-02/00/00062658-acfc-4bdf-806f-aa6ec85e8ddd-8.json\n",
      "Converting ab-duplicates1000-2016-03-02/00/00062658-acfc-4bdf-806f-aa6ec85e8ddd-9.json\n",
      "Writing to csv/0035d310-3bfc-46c7-9cb7-93e77dd5e171.csv\n",
      "Converting ab-duplicates1000-2016-03-02/00/0035d310-3bfc-46c7-9cb7-93e77dd5e171-1.json\n",
      "Converting ab-duplicates1000-2016-03-02/00/0035d310-3bfc-46c7-9cb7-93e77dd5e171-10.json\n",
      "Converting ab-duplicates1000-2016-03-02/00/0035d310-3bfc-46c7-9cb7-93e77dd5e171-11.json\n",
      "Converting ab-duplicates1000-2016-03-02/00/0035d310-3bfc-46c7-9cb7-93e77dd5e171-12.json\n",
      "Converting ab-duplicates1000-2016-03-02/00/0035d310-3bfc-46c7-9cb7-93e77dd5e171-13.json\n",
      "Converting ab-duplicates1000-2016-03-02/00/0035d310-3bfc-46c7-9cb7-93e77dd5e171-14.json\n",
      "Converting ab-duplicates1000-2016-03-02/00/0035d310-3bfc-46c7-9cb7-93e77dd5e171-15.json\n",
      "Converting ab-duplicates1000-2016-03-02/00/0035d310-3bfc-46c7-9cb7-93e77dd5e171-16.json\n",
      "Converting ab-duplicates1000-2016-03-02/00/0035d310-3bfc-46c7-9cb7-93e77dd5e171-17.json\n",
      "Converting ab-duplicates1000-2016-03-02/00/0035d310-3bfc-46c7-9cb7-93e77dd5e171-18.json\n",
      "Converting ab-duplicates1000-2016-03-02/00/0035d310-3bfc-46c7-9cb7-93e77dd5e171-19.json\n",
      "Converting ab-duplicates1000-2016-03-02/00/0035d310-3bfc-46c7-9cb7-93e77dd5e171-2.json\n",
      "Converting ab-duplicates1000-2016-03-02/00/0035d310-3bfc-46c7-9cb7-93e77dd5e171-20.json\n",
      "Converting ab-duplicates1000-2016-03-02/00/0035d310-3bfc-46c7-9cb7-93e77dd5e171-21.json\n",
      "Converting ab-duplicates1000-2016-03-02/00/0035d310-3bfc-46c7-9cb7-93e77dd5e171-22.json\n",
      "Converting ab-duplicates1000-2016-03-02/00/0035d310-3bfc-46c7-9cb7-93e77dd5e171-23.json\n",
      "Converting ab-duplicates1000-2016-03-02/00/0035d310-3bfc-46c7-9cb7-93e77dd5e171-24.json\n",
      "Converting ab-duplicates1000-2016-03-02/00/0035d310-3bfc-46c7-9cb7-93e77dd5e171-25.json\n",
      "Converting ab-duplicates1000-2016-03-02/00/0035d310-3bfc-46c7-9cb7-93e77dd5e171-26.json\n",
      "Converting ab-duplicates1000-2016-03-02/00/0035d310-3bfc-46c7-9cb7-93e77dd5e171-27.json\n",
      "Converting ab-duplicates1000-2016-03-02/00/0035d310-3bfc-46c7-9cb7-93e77dd5e171-28.json\n",
      "Converting ab-duplicates1000-2016-03-02/00/0035d310-3bfc-46c7-9cb7-93e77dd5e171-29.json\n",
      "Converting ab-duplicates1000-2016-03-02/00/0035d310-3bfc-46c7-9cb7-93e77dd5e171-3.json\n",
      "Converting ab-duplicates1000-2016-03-02/00/0035d310-3bfc-46c7-9cb7-93e77dd5e171-30.json\n",
      "Converting ab-duplicates1000-2016-03-02/00/0035d310-3bfc-46c7-9cb7-93e77dd5e171-31.json\n",
      "Converting ab-duplicates1000-2016-03-02/00/0035d310-3bfc-46c7-9cb7-93e77dd5e171-32.json\n",
      "Converting ab-duplicates1000-2016-03-02/00/0035d310-3bfc-46c7-9cb7-93e77dd5e171-33.json\n",
      "Converting ab-duplicates1000-2016-03-02/00/0035d310-3bfc-46c7-9cb7-93e77dd5e171-34.json\n",
      "Converting ab-duplicates1000-2016-03-02/00/0035d310-3bfc-46c7-9cb7-93e77dd5e171-35.json\n",
      "Converting ab-duplicates1000-2016-03-02/00/0035d310-3bfc-46c7-9cb7-93e77dd5e171-36.json\n",
      "Converting ab-duplicates1000-2016-03-02/00/0035d310-3bfc-46c7-9cb7-93e77dd5e171-37.json\n",
      "Converting ab-duplicates1000-2016-03-02/00/0035d310-3bfc-46c7-9cb7-93e77dd5e171-38.json\n",
      "Converting ab-duplicates1000-2016-03-02/00/0035d310-3bfc-46c7-9cb7-93e77dd5e171-39.json\n",
      "Converting ab-duplicates1000-2016-03-02/00/0035d310-3bfc-46c7-9cb7-93e77dd5e171-4.json\n",
      "Converting ab-duplicates1000-2016-03-02/00/0035d310-3bfc-46c7-9cb7-93e77dd5e171-40.json\n",
      "Converting ab-duplicates1000-2016-03-02/00/0035d310-3bfc-46c7-9cb7-93e77dd5e171-41.json\n",
      "Converting ab-duplicates1000-2016-03-02/00/0035d310-3bfc-46c7-9cb7-93e77dd5e171-5.json\n",
      "Converting ab-duplicates1000-2016-03-02/00/0035d310-3bfc-46c7-9cb7-93e77dd5e171-6.json\n",
      "Converting ab-duplicates1000-2016-03-02/00/0035d310-3bfc-46c7-9cb7-93e77dd5e171-7.json\n",
      "Converting ab-duplicates1000-2016-03-02/00/0035d310-3bfc-46c7-9cb7-93e77dd5e171-8.json\n",
      "Converting ab-duplicates1000-2016-03-02/00/0035d310-3bfc-46c7-9cb7-93e77dd5e171-9.json\n",
      "Writing to csv/0069c0f7-9274-4b4b-a10e-110b90a4bcc0.csv\n",
      "Converting ab-duplicates1000-2016-03-02/00/0069c0f7-9274-4b4b-a10e-110b90a4bcc0-1.json\n",
      "Converting ab-duplicates1000-2016-03-02/00/0069c0f7-9274-4b4b-a10e-110b90a4bcc0-10.json\n",
      "Converting ab-duplicates1000-2016-03-02/00/0069c0f7-9274-4b4b-a10e-110b90a4bcc0-11.json\n",
      "Converting ab-duplicates1000-2016-03-02/00/0069c0f7-9274-4b4b-a10e-110b90a4bcc0-12.json\n",
      "Converting ab-duplicates1000-2016-03-02/00/0069c0f7-9274-4b4b-a10e-110b90a4bcc0-13.json\n",
      "Converting ab-duplicates1000-2016-03-02/00/0069c0f7-9274-4b4b-a10e-110b90a4bcc0-14.json\n",
      "Converting ab-duplicates1000-2016-03-02/00/0069c0f7-9274-4b4b-a10e-110b90a4bcc0-15.json\n",
      "Converting ab-duplicates1000-2016-03-02/00/0069c0f7-9274-4b4b-a10e-110b90a4bcc0-16.json\n",
      "Converting ab-duplicates1000-2016-03-02/00/0069c0f7-9274-4b4b-a10e-110b90a4bcc0-17.json\n",
      "Converting ab-duplicates1000-2016-03-02/00/0069c0f7-9274-4b4b-a10e-110b90a4bcc0-18.json\n",
      "Converting ab-duplicates1000-2016-03-02/00/0069c0f7-9274-4b4b-a10e-110b90a4bcc0-19.json\n",
      "Converting ab-duplicates1000-2016-03-02/00/0069c0f7-9274-4b4b-a10e-110b90a4bcc0-2.json\n",
      "Converting ab-duplicates1000-2016-03-02/00/0069c0f7-9274-4b4b-a10e-110b90a4bcc0-20.json\n",
      "Converting ab-duplicates1000-2016-03-02/00/0069c0f7-9274-4b4b-a10e-110b90a4bcc0-21.json\n",
      "Converting ab-duplicates1000-2016-03-02/00/0069c0f7-9274-4b4b-a10e-110b90a4bcc0-22.json\n",
      "Converting ab-duplicates1000-2016-03-02/00/0069c0f7-9274-4b4b-a10e-110b90a4bcc0-23.json\n",
      "Converting ab-duplicates1000-2016-03-02/00/0069c0f7-9274-4b4b-a10e-110b90a4bcc0-24.json\n",
      "Converting ab-duplicates1000-2016-03-02/00/0069c0f7-9274-4b4b-a10e-110b90a4bcc0-25.json\n",
      "Converting ab-duplicates1000-2016-03-02/00/0069c0f7-9274-4b4b-a10e-110b90a4bcc0-26.json\n"
     ]
    },
    {
     "name": "stdout",
     "output_type": "stream",
     "text": [
      "Converting ab-duplicates1000-2016-03-02/00/0069c0f7-9274-4b4b-a10e-110b90a4bcc0-27.json\n",
      "Converting ab-duplicates1000-2016-03-02/00/0069c0f7-9274-4b4b-a10e-110b90a4bcc0-28.json\n",
      "Converting ab-duplicates1000-2016-03-02/00/0069c0f7-9274-4b4b-a10e-110b90a4bcc0-29.json\n",
      "Converting ab-duplicates1000-2016-03-02/00/0069c0f7-9274-4b4b-a10e-110b90a4bcc0-3.json\n",
      "Converting ab-duplicates1000-2016-03-02/00/0069c0f7-9274-4b4b-a10e-110b90a4bcc0-30.json\n",
      "Converting ab-duplicates1000-2016-03-02/00/0069c0f7-9274-4b4b-a10e-110b90a4bcc0-31.json\n",
      "Converting ab-duplicates1000-2016-03-02/00/0069c0f7-9274-4b4b-a10e-110b90a4bcc0-32.json\n",
      "Converting ab-duplicates1000-2016-03-02/00/0069c0f7-9274-4b4b-a10e-110b90a4bcc0-33.json\n",
      "Converting ab-duplicates1000-2016-03-02/00/0069c0f7-9274-4b4b-a10e-110b90a4bcc0-34.json\n",
      "Converting ab-duplicates1000-2016-03-02/00/0069c0f7-9274-4b4b-a10e-110b90a4bcc0-35.json\n",
      "Converting ab-duplicates1000-2016-03-02/00/0069c0f7-9274-4b4b-a10e-110b90a4bcc0-4.json\n",
      "Converting ab-duplicates1000-2016-03-02/00/0069c0f7-9274-4b4b-a10e-110b90a4bcc0-5.json\n",
      "Converting ab-duplicates1000-2016-03-02/00/0069c0f7-9274-4b4b-a10e-110b90a4bcc0-6.json\n",
      "Converting ab-duplicates1000-2016-03-02/00/0069c0f7-9274-4b4b-a10e-110b90a4bcc0-7.json\n",
      "Converting ab-duplicates1000-2016-03-02/00/0069c0f7-9274-4b4b-a10e-110b90a4bcc0-8.json\n",
      "Converting ab-duplicates1000-2016-03-02/00/0069c0f7-9274-4b4b-a10e-110b90a4bcc0-9.json\n",
      "Writing to csv/00e37446-2e4c-409a-a8a1-ed94f1b01a57.csv\n",
      "Converting ab-duplicates1000-2016-03-02/00/00e37446-2e4c-409a-a8a1-ed94f1b01a57-1.json\n",
      "Converting ab-duplicates1000-2016-03-02/00/00e37446-2e4c-409a-a8a1-ed94f1b01a57-10.json\n",
      "Converting ab-duplicates1000-2016-03-02/00/00e37446-2e4c-409a-a8a1-ed94f1b01a57-11.json\n",
      "Converting ab-duplicates1000-2016-03-02/00/00e37446-2e4c-409a-a8a1-ed94f1b01a57-12.json\n",
      "Converting ab-duplicates1000-2016-03-02/00/00e37446-2e4c-409a-a8a1-ed94f1b01a57-13.json\n",
      "Converting ab-duplicates1000-2016-03-02/00/00e37446-2e4c-409a-a8a1-ed94f1b01a57-14.json\n",
      "Converting ab-duplicates1000-2016-03-02/00/00e37446-2e4c-409a-a8a1-ed94f1b01a57-15.json\n",
      "Converting ab-duplicates1000-2016-03-02/00/00e37446-2e4c-409a-a8a1-ed94f1b01a57-16.json\n",
      "Converting ab-duplicates1000-2016-03-02/00/00e37446-2e4c-409a-a8a1-ed94f1b01a57-17.json\n",
      "Converting ab-duplicates1000-2016-03-02/00/00e37446-2e4c-409a-a8a1-ed94f1b01a57-18.json\n",
      "Converting ab-duplicates1000-2016-03-02/00/00e37446-2e4c-409a-a8a1-ed94f1b01a57-19.json\n",
      "Converting ab-duplicates1000-2016-03-02/00/00e37446-2e4c-409a-a8a1-ed94f1b01a57-2.json\n",
      "Converting ab-duplicates1000-2016-03-02/00/00e37446-2e4c-409a-a8a1-ed94f1b01a57-20.json\n",
      "Converting ab-duplicates1000-2016-03-02/00/00e37446-2e4c-409a-a8a1-ed94f1b01a57-21.json\n",
      "Converting ab-duplicates1000-2016-03-02/00/00e37446-2e4c-409a-a8a1-ed94f1b01a57-22.json\n",
      "Converting ab-duplicates1000-2016-03-02/00/00e37446-2e4c-409a-a8a1-ed94f1b01a57-23.json\n",
      "Converting ab-duplicates1000-2016-03-02/00/00e37446-2e4c-409a-a8a1-ed94f1b01a57-24.json\n",
      "Converting ab-duplicates1000-2016-03-02/00/00e37446-2e4c-409a-a8a1-ed94f1b01a57-25.json\n",
      "Converting ab-duplicates1000-2016-03-02/00/00e37446-2e4c-409a-a8a1-ed94f1b01a57-26.json\n",
      "Converting ab-duplicates1000-2016-03-02/00/00e37446-2e4c-409a-a8a1-ed94f1b01a57-27.json\n",
      "Converting ab-duplicates1000-2016-03-02/00/00e37446-2e4c-409a-a8a1-ed94f1b01a57-28.json\n",
      "Converting ab-duplicates1000-2016-03-02/00/00e37446-2e4c-409a-a8a1-ed94f1b01a57-29.json\n",
      "Converting ab-duplicates1000-2016-03-02/00/00e37446-2e4c-409a-a8a1-ed94f1b01a57-3.json\n",
      "Converting ab-duplicates1000-2016-03-02/00/00e37446-2e4c-409a-a8a1-ed94f1b01a57-30.json\n",
      "Converting ab-duplicates1000-2016-03-02/00/00e37446-2e4c-409a-a8a1-ed94f1b01a57-31.json\n",
      "Converting ab-duplicates1000-2016-03-02/00/00e37446-2e4c-409a-a8a1-ed94f1b01a57-32.json\n",
      "Converting ab-duplicates1000-2016-03-02/00/00e37446-2e4c-409a-a8a1-ed94f1b01a57-33.json\n",
      "Converting ab-duplicates1000-2016-03-02/00/00e37446-2e4c-409a-a8a1-ed94f1b01a57-34.json\n",
      "Converting ab-duplicates1000-2016-03-02/00/00e37446-2e4c-409a-a8a1-ed94f1b01a57-35.json\n",
      "Converting ab-duplicates1000-2016-03-02/00/00e37446-2e4c-409a-a8a1-ed94f1b01a57-36.json\n",
      "Converting ab-duplicates1000-2016-03-02/00/00e37446-2e4c-409a-a8a1-ed94f1b01a57-37.json\n",
      "Converting ab-duplicates1000-2016-03-02/00/00e37446-2e4c-409a-a8a1-ed94f1b01a57-38.json\n",
      "Converting ab-duplicates1000-2016-03-02/00/00e37446-2e4c-409a-a8a1-ed94f1b01a57-39.json\n",
      "Converting ab-duplicates1000-2016-03-02/00/00e37446-2e4c-409a-a8a1-ed94f1b01a57-4.json\n",
      "Converting ab-duplicates1000-2016-03-02/00/00e37446-2e4c-409a-a8a1-ed94f1b01a57-40.json\n",
      "Converting ab-duplicates1000-2016-03-02/00/00e37446-2e4c-409a-a8a1-ed94f1b01a57-41.json\n",
      "Converting ab-duplicates1000-2016-03-02/00/00e37446-2e4c-409a-a8a1-ed94f1b01a57-42.json\n",
      "Converting ab-duplicates1000-2016-03-02/00/00e37446-2e4c-409a-a8a1-ed94f1b01a57-5.json\n",
      "Converting ab-duplicates1000-2016-03-02/00/00e37446-2e4c-409a-a8a1-ed94f1b01a57-6.json\n",
      "Converting ab-duplicates1000-2016-03-02/00/00e37446-2e4c-409a-a8a1-ed94f1b01a57-7.json\n",
      "Converting ab-duplicates1000-2016-03-02/00/00e37446-2e4c-409a-a8a1-ed94f1b01a57-8.json\n",
      "Converting ab-duplicates1000-2016-03-02/00/00e37446-2e4c-409a-a8a1-ed94f1b01a57-9.json\n",
      "Writing to csv/003304eb-5bb9-498e-8185-c6b220e75692.csv\n",
      "Converting ab-duplicates1000-2016-03-02/00/003304eb-5bb9-498e-8185-c6b220e75692-1.json\n",
      "Converting ab-duplicates1000-2016-03-02/00/003304eb-5bb9-498e-8185-c6b220e75692-10.json\n",
      "Converting ab-duplicates1000-2016-03-02/00/003304eb-5bb9-498e-8185-c6b220e75692-11.json\n",
      "Converting ab-duplicates1000-2016-03-02/00/003304eb-5bb9-498e-8185-c6b220e75692-12.json\n",
      "Converting ab-duplicates1000-2016-03-02/00/003304eb-5bb9-498e-8185-c6b220e75692-13.json\n",
      "Converting ab-duplicates1000-2016-03-02/00/003304eb-5bb9-498e-8185-c6b220e75692-14.json\n",
      "Converting ab-duplicates1000-2016-03-02/00/003304eb-5bb9-498e-8185-c6b220e75692-15.json\n",
      "Converting ab-duplicates1000-2016-03-02/00/003304eb-5bb9-498e-8185-c6b220e75692-16.json\n",
      "Converting ab-duplicates1000-2016-03-02/00/003304eb-5bb9-498e-8185-c6b220e75692-17.json\n",
      "Converting ab-duplicates1000-2016-03-02/00/003304eb-5bb9-498e-8185-c6b220e75692-18.json\n",
      "Converting ab-duplicates1000-2016-03-02/00/003304eb-5bb9-498e-8185-c6b220e75692-19.json\n",
      "Converting ab-duplicates1000-2016-03-02/00/003304eb-5bb9-498e-8185-c6b220e75692-2.json\n",
      "Converting ab-duplicates1000-2016-03-02/00/003304eb-5bb9-498e-8185-c6b220e75692-20.json\n",
      "Converting ab-duplicates1000-2016-03-02/00/003304eb-5bb9-498e-8185-c6b220e75692-21.json\n",
      "Converting ab-duplicates1000-2016-03-02/00/003304eb-5bb9-498e-8185-c6b220e75692-22.json\n",
      "Converting ab-duplicates1000-2016-03-02/00/003304eb-5bb9-498e-8185-c6b220e75692-23.json\n",
      "Converting ab-duplicates1000-2016-03-02/00/003304eb-5bb9-498e-8185-c6b220e75692-24.json\n",
      "Converting ab-duplicates1000-2016-03-02/00/003304eb-5bb9-498e-8185-c6b220e75692-25.json\n",
      "Converting ab-duplicates1000-2016-03-02/00/003304eb-5bb9-498e-8185-c6b220e75692-26.json\n",
      "Converting ab-duplicates1000-2016-03-02/00/003304eb-5bb9-498e-8185-c6b220e75692-27.json\n",
      "Converting ab-duplicates1000-2016-03-02/00/003304eb-5bb9-498e-8185-c6b220e75692-28.json\n",
      "Converting ab-duplicates1000-2016-03-02/00/003304eb-5bb9-498e-8185-c6b220e75692-29.json\n",
      "Converting ab-duplicates1000-2016-03-02/00/003304eb-5bb9-498e-8185-c6b220e75692-3.json\n",
      "Converting ab-duplicates1000-2016-03-02/00/003304eb-5bb9-498e-8185-c6b220e75692-30.json\n",
      "Converting ab-duplicates1000-2016-03-02/00/003304eb-5bb9-498e-8185-c6b220e75692-31.json\n",
      "Converting ab-duplicates1000-2016-03-02/00/003304eb-5bb9-498e-8185-c6b220e75692-4.json\n",
      "Converting ab-duplicates1000-2016-03-02/00/003304eb-5bb9-498e-8185-c6b220e75692-5.json\n",
      "Converting ab-duplicates1000-2016-03-02/00/003304eb-5bb9-498e-8185-c6b220e75692-6.json\n",
      "Converting ab-duplicates1000-2016-03-02/00/003304eb-5bb9-498e-8185-c6b220e75692-7.json\n",
      "Converting ab-duplicates1000-2016-03-02/00/003304eb-5bb9-498e-8185-c6b220e75692-8.json\n",
      "Converting ab-duplicates1000-2016-03-02/00/003304eb-5bb9-498e-8185-c6b220e75692-9.json\n",
      "Writing to csv/00e80381-2362-485c-aa47-942ff63f0ac0.csv\n",
      "Converting ab-duplicates1000-2016-03-02/00/00e80381-2362-485c-aa47-942ff63f0ac0-1.json\n",
      "Converting ab-duplicates1000-2016-03-02/00/00e80381-2362-485c-aa47-942ff63f0ac0-10.json\n",
      "Converting ab-duplicates1000-2016-03-02/00/00e80381-2362-485c-aa47-942ff63f0ac0-11.json\n"
     ]
    },
    {
     "name": "stdout",
     "output_type": "stream",
     "text": [
      "Converting ab-duplicates1000-2016-03-02/00/00e80381-2362-485c-aa47-942ff63f0ac0-12.json\n",
      "Converting ab-duplicates1000-2016-03-02/00/00e80381-2362-485c-aa47-942ff63f0ac0-13.json\n",
      "Converting ab-duplicates1000-2016-03-02/00/00e80381-2362-485c-aa47-942ff63f0ac0-14.json\n",
      "Converting ab-duplicates1000-2016-03-02/00/00e80381-2362-485c-aa47-942ff63f0ac0-15.json\n",
      "Converting ab-duplicates1000-2016-03-02/00/00e80381-2362-485c-aa47-942ff63f0ac0-16.json\n",
      "Converting ab-duplicates1000-2016-03-02/00/00e80381-2362-485c-aa47-942ff63f0ac0-17.json\n",
      "Converting ab-duplicates1000-2016-03-02/00/00e80381-2362-485c-aa47-942ff63f0ac0-18.json\n",
      "Converting ab-duplicates1000-2016-03-02/00/00e80381-2362-485c-aa47-942ff63f0ac0-19.json\n",
      "Converting ab-duplicates1000-2016-03-02/00/00e80381-2362-485c-aa47-942ff63f0ac0-2.json\n",
      "Converting ab-duplicates1000-2016-03-02/00/00e80381-2362-485c-aa47-942ff63f0ac0-20.json\n",
      "Converting ab-duplicates1000-2016-03-02/00/00e80381-2362-485c-aa47-942ff63f0ac0-21.json\n",
      "Converting ab-duplicates1000-2016-03-02/00/00e80381-2362-485c-aa47-942ff63f0ac0-22.json\n",
      "Converting ab-duplicates1000-2016-03-02/00/00e80381-2362-485c-aa47-942ff63f0ac0-23.json\n",
      "Converting ab-duplicates1000-2016-03-02/00/00e80381-2362-485c-aa47-942ff63f0ac0-24.json\n",
      "Converting ab-duplicates1000-2016-03-02/00/00e80381-2362-485c-aa47-942ff63f0ac0-25.json\n",
      "Converting ab-duplicates1000-2016-03-02/00/00e80381-2362-485c-aa47-942ff63f0ac0-26.json\n",
      "Converting ab-duplicates1000-2016-03-02/00/00e80381-2362-485c-aa47-942ff63f0ac0-27.json\n",
      "Converting ab-duplicates1000-2016-03-02/00/00e80381-2362-485c-aa47-942ff63f0ac0-28.json\n",
      "Converting ab-duplicates1000-2016-03-02/00/00e80381-2362-485c-aa47-942ff63f0ac0-29.json\n",
      "Converting ab-duplicates1000-2016-03-02/00/00e80381-2362-485c-aa47-942ff63f0ac0-3.json\n",
      "Converting ab-duplicates1000-2016-03-02/00/00e80381-2362-485c-aa47-942ff63f0ac0-30.json\n",
      "Converting ab-duplicates1000-2016-03-02/00/00e80381-2362-485c-aa47-942ff63f0ac0-31.json\n",
      "Converting ab-duplicates1000-2016-03-02/00/00e80381-2362-485c-aa47-942ff63f0ac0-32.json\n",
      "Converting ab-duplicates1000-2016-03-02/00/00e80381-2362-485c-aa47-942ff63f0ac0-33.json\n",
      "Converting ab-duplicates1000-2016-03-02/00/00e80381-2362-485c-aa47-942ff63f0ac0-34.json\n",
      "Converting ab-duplicates1000-2016-03-02/00/00e80381-2362-485c-aa47-942ff63f0ac0-4.json\n",
      "Converting ab-duplicates1000-2016-03-02/00/00e80381-2362-485c-aa47-942ff63f0ac0-5.json\n",
      "Converting ab-duplicates1000-2016-03-02/00/00e80381-2362-485c-aa47-942ff63f0ac0-6.json\n",
      "Converting ab-duplicates1000-2016-03-02/00/00e80381-2362-485c-aa47-942ff63f0ac0-7.json\n",
      "Converting ab-duplicates1000-2016-03-02/00/00e80381-2362-485c-aa47-942ff63f0ac0-8.json\n",
      "Converting ab-duplicates1000-2016-03-02/00/00e80381-2362-485c-aa47-942ff63f0ac0-9.json\n",
      "Writing to csv/00c47ea6-3a10-4a32-b1f1-990ac756c6a0.csv\n",
      "Converting ab-duplicates1000-2016-03-02/00/00c47ea6-3a10-4a32-b1f1-990ac756c6a0-1.json\n",
      "Converting ab-duplicates1000-2016-03-02/00/00c47ea6-3a10-4a32-b1f1-990ac756c6a0-10.json\n",
      "Converting ab-duplicates1000-2016-03-02/00/00c47ea6-3a10-4a32-b1f1-990ac756c6a0-11.json\n",
      "Converting ab-duplicates1000-2016-03-02/00/00c47ea6-3a10-4a32-b1f1-990ac756c6a0-12.json\n",
      "Converting ab-duplicates1000-2016-03-02/00/00c47ea6-3a10-4a32-b1f1-990ac756c6a0-13.json\n",
      "Converting ab-duplicates1000-2016-03-02/00/00c47ea6-3a10-4a32-b1f1-990ac756c6a0-14.json\n",
      "Converting ab-duplicates1000-2016-03-02/00/00c47ea6-3a10-4a32-b1f1-990ac756c6a0-15.json\n",
      "Converting ab-duplicates1000-2016-03-02/00/00c47ea6-3a10-4a32-b1f1-990ac756c6a0-16.json\n",
      "Converting ab-duplicates1000-2016-03-02/00/00c47ea6-3a10-4a32-b1f1-990ac756c6a0-17.json\n",
      "Converting ab-duplicates1000-2016-03-02/00/00c47ea6-3a10-4a32-b1f1-990ac756c6a0-18.json\n",
      "Converting ab-duplicates1000-2016-03-02/00/00c47ea6-3a10-4a32-b1f1-990ac756c6a0-19.json\n",
      "Converting ab-duplicates1000-2016-03-02/00/00c47ea6-3a10-4a32-b1f1-990ac756c6a0-2.json\n",
      "Converting ab-duplicates1000-2016-03-02/00/00c47ea6-3a10-4a32-b1f1-990ac756c6a0-20.json\n",
      "Converting ab-duplicates1000-2016-03-02/00/00c47ea6-3a10-4a32-b1f1-990ac756c6a0-21.json\n",
      "Converting ab-duplicates1000-2016-03-02/00/00c47ea6-3a10-4a32-b1f1-990ac756c6a0-22.json\n",
      "Converting ab-duplicates1000-2016-03-02/00/00c47ea6-3a10-4a32-b1f1-990ac756c6a0-23.json\n",
      "Converting ab-duplicates1000-2016-03-02/00/00c47ea6-3a10-4a32-b1f1-990ac756c6a0-24.json\n",
      "Converting ab-duplicates1000-2016-03-02/00/00c47ea6-3a10-4a32-b1f1-990ac756c6a0-25.json\n",
      "Converting ab-duplicates1000-2016-03-02/00/00c47ea6-3a10-4a32-b1f1-990ac756c6a0-26.json\n",
      "Converting ab-duplicates1000-2016-03-02/00/00c47ea6-3a10-4a32-b1f1-990ac756c6a0-27.json\n",
      "Converting ab-duplicates1000-2016-03-02/00/00c47ea6-3a10-4a32-b1f1-990ac756c6a0-28.json\n",
      "Converting ab-duplicates1000-2016-03-02/00/00c47ea6-3a10-4a32-b1f1-990ac756c6a0-29.json\n",
      "Converting ab-duplicates1000-2016-03-02/00/00c47ea6-3a10-4a32-b1f1-990ac756c6a0-3.json\n",
      "Converting ab-duplicates1000-2016-03-02/00/00c47ea6-3a10-4a32-b1f1-990ac756c6a0-30.json\n",
      "Converting ab-duplicates1000-2016-03-02/00/00c47ea6-3a10-4a32-b1f1-990ac756c6a0-31.json\n",
      "Converting ab-duplicates1000-2016-03-02/00/00c47ea6-3a10-4a32-b1f1-990ac756c6a0-32.json\n",
      "Converting ab-duplicates1000-2016-03-02/00/00c47ea6-3a10-4a32-b1f1-990ac756c6a0-33.json\n",
      "Converting ab-duplicates1000-2016-03-02/00/00c47ea6-3a10-4a32-b1f1-990ac756c6a0-34.json\n",
      "Converting ab-duplicates1000-2016-03-02/00/00c47ea6-3a10-4a32-b1f1-990ac756c6a0-35.json\n",
      "Converting ab-duplicates1000-2016-03-02/00/00c47ea6-3a10-4a32-b1f1-990ac756c6a0-36.json\n",
      "Converting ab-duplicates1000-2016-03-02/00/00c47ea6-3a10-4a32-b1f1-990ac756c6a0-37.json\n",
      "Converting ab-duplicates1000-2016-03-02/00/00c47ea6-3a10-4a32-b1f1-990ac756c6a0-38.json\n",
      "Converting ab-duplicates1000-2016-03-02/00/00c47ea6-3a10-4a32-b1f1-990ac756c6a0-39.json\n",
      "Converting ab-duplicates1000-2016-03-02/00/00c47ea6-3a10-4a32-b1f1-990ac756c6a0-4.json\n",
      "Converting ab-duplicates1000-2016-03-02/00/00c47ea6-3a10-4a32-b1f1-990ac756c6a0-40.json\n",
      "Converting ab-duplicates1000-2016-03-02/00/00c47ea6-3a10-4a32-b1f1-990ac756c6a0-41.json\n",
      "Converting ab-duplicates1000-2016-03-02/00/00c47ea6-3a10-4a32-b1f1-990ac756c6a0-42.json\n",
      "Converting ab-duplicates1000-2016-03-02/00/00c47ea6-3a10-4a32-b1f1-990ac756c6a0-43.json\n",
      "Converting ab-duplicates1000-2016-03-02/00/00c47ea6-3a10-4a32-b1f1-990ac756c6a0-44.json\n",
      "Converting ab-duplicates1000-2016-03-02/00/00c47ea6-3a10-4a32-b1f1-990ac756c6a0-45.json\n",
      "Converting ab-duplicates1000-2016-03-02/00/00c47ea6-3a10-4a32-b1f1-990ac756c6a0-46.json\n",
      "Converting ab-duplicates1000-2016-03-02/00/00c47ea6-3a10-4a32-b1f1-990ac756c6a0-47.json\n",
      "Converting ab-duplicates1000-2016-03-02/00/00c47ea6-3a10-4a32-b1f1-990ac756c6a0-48.json\n",
      "Converting ab-duplicates1000-2016-03-02/00/00c47ea6-3a10-4a32-b1f1-990ac756c6a0-49.json\n",
      "Converting ab-duplicates1000-2016-03-02/00/00c47ea6-3a10-4a32-b1f1-990ac756c6a0-5.json\n",
      "Converting ab-duplicates1000-2016-03-02/00/00c47ea6-3a10-4a32-b1f1-990ac756c6a0-50.json\n",
      "Converting ab-duplicates1000-2016-03-02/00/00c47ea6-3a10-4a32-b1f1-990ac756c6a0-51.json\n",
      "Converting ab-duplicates1000-2016-03-02/00/00c47ea6-3a10-4a32-b1f1-990ac756c6a0-52.json\n",
      "Converting ab-duplicates1000-2016-03-02/00/00c47ea6-3a10-4a32-b1f1-990ac756c6a0-53.json\n",
      "Converting ab-duplicates1000-2016-03-02/00/00c47ea6-3a10-4a32-b1f1-990ac756c6a0-54.json\n",
      "Converting ab-duplicates1000-2016-03-02/00/00c47ea6-3a10-4a32-b1f1-990ac756c6a0-55.json\n",
      "Converting ab-duplicates1000-2016-03-02/00/00c47ea6-3a10-4a32-b1f1-990ac756c6a0-56.json\n",
      "Converting ab-duplicates1000-2016-03-02/00/00c47ea6-3a10-4a32-b1f1-990ac756c6a0-57.json\n",
      "Converting ab-duplicates1000-2016-03-02/00/00c47ea6-3a10-4a32-b1f1-990ac756c6a0-58.json\n",
      "Converting ab-duplicates1000-2016-03-02/00/00c47ea6-3a10-4a32-b1f1-990ac756c6a0-59.json\n",
      "Converting ab-duplicates1000-2016-03-02/00/00c47ea6-3a10-4a32-b1f1-990ac756c6a0-6.json\n",
      "Converting ab-duplicates1000-2016-03-02/00/00c47ea6-3a10-4a32-b1f1-990ac756c6a0-60.json\n",
      "Converting ab-duplicates1000-2016-03-02/00/00c47ea6-3a10-4a32-b1f1-990ac756c6a0-61.json\n",
      "Converting ab-duplicates1000-2016-03-02/00/00c47ea6-3a10-4a32-b1f1-990ac756c6a0-62.json\n",
      "Converting ab-duplicates1000-2016-03-02/00/00c47ea6-3a10-4a32-b1f1-990ac756c6a0-63.json\n",
      "Converting ab-duplicates1000-2016-03-02/00/00c47ea6-3a10-4a32-b1f1-990ac756c6a0-64.json\n",
      "Converting ab-duplicates1000-2016-03-02/00/00c47ea6-3a10-4a32-b1f1-990ac756c6a0-65.json\n",
      "Converting ab-duplicates1000-2016-03-02/00/00c47ea6-3a10-4a32-b1f1-990ac756c6a0-66.json\n",
      "Converting ab-duplicates1000-2016-03-02/00/00c47ea6-3a10-4a32-b1f1-990ac756c6a0-67.json\n"
     ]
    },
    {
     "name": "stdout",
     "output_type": "stream",
     "text": [
      "Converting ab-duplicates1000-2016-03-02/00/00c47ea6-3a10-4a32-b1f1-990ac756c6a0-68.json\n",
      "Converting ab-duplicates1000-2016-03-02/00/00c47ea6-3a10-4a32-b1f1-990ac756c6a0-69.json\n",
      "Converting ab-duplicates1000-2016-03-02/00/00c47ea6-3a10-4a32-b1f1-990ac756c6a0-7.json\n",
      "Converting ab-duplicates1000-2016-03-02/00/00c47ea6-3a10-4a32-b1f1-990ac756c6a0-70.json\n",
      "Converting ab-duplicates1000-2016-03-02/00/00c47ea6-3a10-4a32-b1f1-990ac756c6a0-71.json\n",
      "Converting ab-duplicates1000-2016-03-02/00/00c47ea6-3a10-4a32-b1f1-990ac756c6a0-72.json\n",
      "Converting ab-duplicates1000-2016-03-02/00/00c47ea6-3a10-4a32-b1f1-990ac756c6a0-73.json\n",
      "Converting ab-duplicates1000-2016-03-02/00/00c47ea6-3a10-4a32-b1f1-990ac756c6a0-74.json\n",
      "Converting ab-duplicates1000-2016-03-02/00/00c47ea6-3a10-4a32-b1f1-990ac756c6a0-75.json\n",
      "Converting ab-duplicates1000-2016-03-02/00/00c47ea6-3a10-4a32-b1f1-990ac756c6a0-76.json\n",
      "Converting ab-duplicates1000-2016-03-02/00/00c47ea6-3a10-4a32-b1f1-990ac756c6a0-77.json\n",
      "Converting ab-duplicates1000-2016-03-02/00/00c47ea6-3a10-4a32-b1f1-990ac756c6a0-78.json\n",
      "Converting ab-duplicates1000-2016-03-02/00/00c47ea6-3a10-4a32-b1f1-990ac756c6a0-79.json\n",
      "Converting ab-duplicates1000-2016-03-02/00/00c47ea6-3a10-4a32-b1f1-990ac756c6a0-8.json\n",
      "Converting ab-duplicates1000-2016-03-02/00/00c47ea6-3a10-4a32-b1f1-990ac756c6a0-80.json\n",
      "Converting ab-duplicates1000-2016-03-02/00/00c47ea6-3a10-4a32-b1f1-990ac756c6a0-81.json\n",
      "Converting ab-duplicates1000-2016-03-02/00/00c47ea6-3a10-4a32-b1f1-990ac756c6a0-82.json\n",
      "Converting ab-duplicates1000-2016-03-02/00/00c47ea6-3a10-4a32-b1f1-990ac756c6a0-83.json\n",
      "Converting ab-duplicates1000-2016-03-02/00/00c47ea6-3a10-4a32-b1f1-990ac756c6a0-84.json\n",
      "Converting ab-duplicates1000-2016-03-02/00/00c47ea6-3a10-4a32-b1f1-990ac756c6a0-85.json\n",
      "Converting ab-duplicates1000-2016-03-02/00/00c47ea6-3a10-4a32-b1f1-990ac756c6a0-86.json\n",
      "Converting ab-duplicates1000-2016-03-02/00/00c47ea6-3a10-4a32-b1f1-990ac756c6a0-87.json\n",
      "Converting ab-duplicates1000-2016-03-02/00/00c47ea6-3a10-4a32-b1f1-990ac756c6a0-88.json\n",
      "Converting ab-duplicates1000-2016-03-02/00/00c47ea6-3a10-4a32-b1f1-990ac756c6a0-89.json\n",
      "Converting ab-duplicates1000-2016-03-02/00/00c47ea6-3a10-4a32-b1f1-990ac756c6a0-9.json\n",
      "Converting ab-duplicates1000-2016-03-02/00/00c47ea6-3a10-4a32-b1f1-990ac756c6a0-90.json\n",
      "Converting ab-duplicates1000-2016-03-02/00/00c47ea6-3a10-4a32-b1f1-990ac756c6a0-91.json\n",
      "Converting ab-duplicates1000-2016-03-02/00/00c47ea6-3a10-4a32-b1f1-990ac756c6a0-92.json\n",
      "Converting ab-duplicates1000-2016-03-02/00/00c47ea6-3a10-4a32-b1f1-990ac756c6a0-93.json\n"
     ]
    }
   ],
   "source": [
    "try:\n",
    "    os.mkdir(csv_dir)\n",
    "except FileExistsError:\n",
    "    pass\n",
    "\n",
    "for prefix_dir in sorted(os.listdir(data_dir)):\n",
    "    prefix_path = os.path.join(data_dir, prefix_dir)\n",
    "    \n",
    "    json_files = {}\n",
    "    for file in sorted(os.listdir(prefix_path)):\n",
    "        mbid = file[:36]\n",
    "        \n",
    "        if mbid not in json_files:\n",
    "            json_files[mbid] = []\n",
    "        else:\n",
    "            json_files[mbid].append(os.path.join(prefix_path, file))\n",
    "    \n",
    "    for mbid in json_files:\n",
    "        csv_file = os.path.join(csv_dir, mbid + '.csv')\n",
    "        convert_all(json_files[mbid], csv_file, include=features)"
   ]
  },
  {
   "cell_type": "markdown",
   "metadata": {},
   "source": [
    "## Feature analysis"
   ]
  },
  {
   "cell_type": "code",
   "execution_count": 95,
   "metadata": {},
   "outputs": [
    {
     "name": "stdout",
     "output_type": "stream",
     "text": [
      "csv/00062658-acfc-4bdf-806f-aa6ec85e8ddd.csv\n"
     ]
    }
   ],
   "source": [
    "import numpy as np\n",
    "import pandas as pd\n",
    "\n",
    "csv_file = sorted(os.listdir(csv_dir))[1]\n",
    "csv_path = os.path.join(csv_dir, csv_file)\n",
    "data = pd.read_csv(csv_path)\n",
    "\n",
    "print(csv_path)"
   ]
  },
  {
   "cell_type": "markdown",
   "metadata": {},
   "source": [
    "### Simple numerical features"
   ]
  },
  {
   "cell_type": "code",
   "execution_count": 96,
   "metadata": {},
   "outputs": [
    {
     "data": {
      "image/png": "[encoded data removed]",
      "text/plain": [
       "<matplotlib.figure.Figure at 0x7f6e588026a0>"
      ]
     },
     "metadata": {},
     "output_type": "display_data"
    }
   ],
   "source": [
    "import matplotlib.pyplot as plt\n",
    "import seaborn as sb\n",
    "%matplotlib inline\n",
    "\n",
    "simple_features = [\n",
    "    'metadata.audio_properties.length',\n",
    "    'metadata.audio_properties.replay_gain',\n",
    "    'lowlevel.average_loudness',\n",
    "    'rhythm.bpm',\n",
    "    'rhythm.onset_rate',\n",
    "    'tonal.tuning_frequency'\n",
    "]\n",
    "\n",
    "figure_dir = 'figures'\n",
    "\n",
    "try:\n",
    "    os.mkdir(figure_dir)\n",
    "except FileExistsError:\n",
    "    pass\n",
    "\n",
    "def plot_hist(data, feature):\n",
    "    plt.title(feature)\n",
    "    sb.distplot(list(data[feature].values), rug=True)\n",
    "\n",
    "plt.figure(figsize=(12,12))\n",
    "index = 1\n",
    "for feature in simple_features:\n",
    "    plt.subplot(np.ceil(len(simple_features)/2), 2, index)\n",
    "    plot_hist(data, feature)\n",
    "    index += 1\n",
    "    \n",
    "plt.savefig(os.path.join(figure_dir, 'features.png'), bbox_inches='tight')\n"
   ]
  },
  {
   "cell_type": "code",
   "execution_count": 98,
   "metadata": {},
   "outputs": [
    {
     "name": "stdout",
     "output_type": "stream",
     "text": [
      "Total: 32\n",
      "metadata.audio_properties.length        : mean= 254.31, std=   2.68, out1std:  11, out2std:   0\n",
      "metadata.audio_properties.replay_gain   : mean=  -8.60, std=   3.05, out1std:  14, out2std:   2\n",
      "lowlevel.average_loudness               : mean=   0.83, std=   0.15, out1std:   7, out2std:   7\n",
      "rhythm.bpm                              : mean= 114.51, std=   5.50, out1std:   7, out2std:   7\n",
      "rhythm.onset_rate                       : mean=   3.70, std=   0.13, out1std:   9, out2std:   7\n",
      "tonal.tuning_frequency                  : mean= 436.89, std=   1.81, out1std:   9, out2std:   0\n"
     ]
    }
   ],
   "source": [
    "outof = lambda x,k: x[np.abs(x - np.median(x)) > k*np.std(x)]\n",
    "\n",
    "print('Total: {}'.format(len(data)))\n",
    "for name, values in data[features].iteritems():\n",
    "    print('{:40}: mean={:7.2f}, std={:7.2f}, out1std: {:3}, out2std: {:3}'.format(\n",
    "        name, np.mean(values), np.std(values), len(outof(values, 1)), len(outof(values, 2))))"
   ]
  },
  {
   "cell_type": "code",
   "execution_count": 64,
   "metadata": {},
   "outputs": [
    {
     "ename": "TypeError",
     "evalue": "<lambda>() missing 2 required positional arguments: 'x' and 'k'",
     "output_type": "error",
     "traceback": [
      "\u001b[0;31m---------------------------------------------------------------------------\u001b[0m",
      "\u001b[0;31mTypeError\u001b[0m                                 Traceback (most recent call last)",
      "\u001b[0;32m<ipython-input-64-c7dd99762d54>\u001b[0m in \u001b[0;36m<module>\u001b[0;34m()\u001b[0m\n\u001b[1;32m      3\u001b[0m     \u001b[0;34m'tonal.key_scale'\u001b[0m\u001b[0;34m,\u001b[0m\u001b[0;34m\u001b[0m\u001b[0m\n\u001b[1;32m      4\u001b[0m ]\n\u001b[0;32m----> 5\u001b[0;31m \u001b[0moutof\u001b[0m\u001b[0;34m(\u001b[0m\u001b[0;34m)\u001b[0m\u001b[0;34m\u001b[0m\u001b[0m\n\u001b[0m",
      "\u001b[0;31mTypeError\u001b[0m: <lambda>() missing 2 required positional arguments: 'x' and 'k'"
     ]
    }
   ],
   "source": [
    "string_features = [\n",
    "    'tonal.key_key',\n",
    "    'tonal.key_scale',\n",
    "]\n",
    "outof()\n"
   ]
  },
  {
   "cell_type": "code",
   "execution_count": 70,
   "metadata": {},
   "outputs": [
    {
     "data": {
      "text/plain": [
       "94"
      ]
     },
     "execution_count": 70,
     "metadata": {},
     "output_type": "execute_result"
    }
   ],
   "source": [
    "len(data)"
   ]
  },
  {
   "cell_type": "markdown",
   "metadata": {},
   "source": [
    "# Duplicate analysis"
   ]
  },
  {
   "cell_type": "code",
   "execution_count": null,
   "metadata": {},
   "outputs": [],
   "source": [
    "for csv_file in sorted(os.listdir(csv_dir)):\n",
    "    csv_path = os.path.join(csv_dir, csv_file)\n",
    "    data = pd.read_csv(csv_path)\n",
    "    \n",
    "    break "
   ]
  }
 ],
 "metadata": {
  "kernelspec": {
   "display_name": "Python 3",
   "language": "python",
   "name": "python3"
  },
  "language_info": {
   "codemirror_mode": {
    "name": "ipython",
    "version": 3
   },
   "file_extension": ".py",
   "mimetype": "text/x-python",
   "name": "python",
   "nbconvert_exporter": "python",
   "pygments_lexer": "ipython3",
   "version": "3.5.2"
  }
 },
 "nbformat": 4,
 "nbformat_minor": 2
}
